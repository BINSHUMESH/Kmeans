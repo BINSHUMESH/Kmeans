{
  "nbformat": 4,
  "nbformat_minor": 0,
  "metadata": {
    "colab": {
      "name": "kmeans.ipynb",
      "provenance": [],
      "authorship_tag": "ABX9TyOCV5d+YS+g8P1ZrBABvTs1",
      "include_colab_link": true
    },
    "kernelspec": {
      "name": "python3",
      "display_name": "Python 3"
    }
  },
  "cells": [
    {
      "cell_type": "markdown",
      "metadata": {
        "id": "view-in-github",
        "colab_type": "text"
      },
      "source": [
        "<a href=\"https://colab.research.google.com/github/BINSHUMESH/Kmeans/blob/master/kmeans.ipynb\" target=\"_parent\"><img src=\"https://colab.research.google.com/assets/colab-badge.svg\" alt=\"Open In Colab\"/></a>"
      ]
    },
    {
      "cell_type": "code",
      "metadata": {
        "id": "BCbsrO3QVrsi",
        "colab_type": "code",
        "colab": {}
      },
      "source": [
        "#Data importing\n",
        "import numpy as np\n",
        "data=[[100,5],[90,7],[15,96],[20,125],[85,12],[18,110]]\n",
        "data=np.array(data)\n",
        "n,q=data.shape"
      ],
      "execution_count": 0,
      "outputs": []
    },
    {
      "cell_type": "code",
      "metadata": {
        "id": "NOk_uxnOXRQF",
        "colab_type": "code",
        "colab": {}
      },
      "source": [
        "#Kmeans Funtion Definition\n",
        "from scipy.spatial import distance\n",
        "def kmeans(k):\n",
        "  count=10\n",
        "  cl,c=[],[]\n",
        "  for i in range(0,k):\n",
        "    c.append(data[i])\n",
        "  while(count):\n",
        "    cl=[]\n",
        "    for i in range(0,n):\n",
        "      dist=[]\n",
        "      for j in range(0,k):\n",
        "        dist.append([distance.euclidean(data[i],c[j]),j])\n",
        "      dist.sort()\n",
        "      cl.append(dist[0][1])\n",
        "    c=[]\n",
        "    for i in range(0,k):\n",
        "      x,y=[],[]\n",
        "      for j in range(0,n):\n",
        "        if i==cl[j]:\n",
        "          x.append(data[j][0])\n",
        "          y.append(data[j][1])\n",
        "      if len(x)!=0:\n",
        "        c.append([np.sum(x)/len(x),np.sum(y)/len(y)])\n",
        "    count=count-1\n",
        "  dist=[]\n",
        "  for i in range(0,k):\n",
        "    for j in range(0,n):\n",
        "      if(i==cl[j]):\n",
        "        dist.append(distance.euclidean(data[j],c[i])**2)\n",
        "  t=np.sum(dist)\n",
        "  return t"
      ],
      "execution_count": 0,
      "outputs": []
    },
    {
      "cell_type": "code",
      "metadata": {
        "id": "W1Q3sMt8QC6T",
        "colab_type": "code",
        "outputId": "22d9023d-bc4b-40c2-8330-a994d7578ce1",
        "colab": {
          "base_uri": "https://localhost:8080/",
          "height": 283
        }
      },
      "source": [
        "#Best value of K and Plotting the Graph\n",
        "k,dist=[],[]\n",
        "for i in range(1,n):\n",
        "  dist.append(kmeans(i))\n",
        "  k.append(i)\n",
        "import matplotlib.pyplot as plt\n",
        "plt.plot(k,dist)\n",
        "diff=0\n",
        "for i in range(1,len(dist)):\n",
        "  if(diff<dist[i-1]-dist[i]):\n",
        "    k=i+1\n",
        "    diff=dist[i-1]-dist[i]\n",
        "print('Best K value: '+str(k))"
      ],
      "execution_count": 3,
      "outputs": [
        {
          "output_type": "stream",
          "text": [
            "Best K value: 2\n"
          ],
          "name": "stdout"
        },
        {
          "output_type": "display_data",
          "data": {
            "image/png": "[encoded data removed]",
            "text/plain": [
              "<Figure size 432x288 with 1 Axes>"
            ]
          },
          "metadata": {
            "tags": []
          }
        }
      ]
    }
  ]
}